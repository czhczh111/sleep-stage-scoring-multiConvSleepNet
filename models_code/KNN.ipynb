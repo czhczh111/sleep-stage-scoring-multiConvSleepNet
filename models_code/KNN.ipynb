{
 "cells": [
  {
   "cell_type": "code",
   "execution_count": 1,
   "metadata": {},
   "outputs": [],
   "source": [
    "from load_files import train_npzs, valid_npzs, load_npz_files\n",
    "import numpy as np\n",
    "\n",
    "from sklearn.neighbors import KNeighborsClassifier\n",
    "from sklearn.metrics import accuracy_score\n",
    "import joblib"
   ]
  },
  {
   "cell_type": "code",
   "execution_count": 2,
   "metadata": {
    "scrolled": true
   },
   "outputs": [
    {
     "name": "stdout",
     "output_type": "stream",
     "text": [
      "Loading ./sleep_data/sleepedf/prepared/SC4001E0.npz ...\n",
      "Loading ./sleep_data/sleepedf/prepared/SC4002E0.npz ...\n",
      "Loading ./sleep_data/sleepedf/prepared/SC4011E0.npz ...\n",
      "Loading ./sleep_data/sleepedf/prepared/SC4012E0.npz ...\n",
      "Loading ./sleep_data/sleepedf/prepared/SC4021E0.npz ...\n",
      "Loading ./sleep_data/sleepedf/prepared/SC4022E0.npz ...\n",
      "Loading ./sleep_data/sleepedf/prepared/SC4032E0.npz ...\n",
      "Loading ./sleep_data/sleepedf/prepared/SC4041E0.npz ...\n",
      "Loading ./sleep_data/sleepedf/prepared/SC4042E0.npz ...\n",
      "Loading ./sleep_data/sleepedf/prepared/SC4052E0.npz ...\n",
      "Loading ./sleep_data/sleepedf/prepared/SC4061E0.npz ...\n",
      "Loading ./sleep_data/sleepedf/prepared/SC4062E0.npz ...\n",
      "Loading ./sleep_data/sleepedf/prepared/SC4071E0.npz ...\n",
      "Loading ./sleep_data/sleepedf/prepared/SC4072E0.npz ...\n",
      "Loading ./sleep_data/sleepedf/prepared/SC4081E0.npz ...\n",
      "Loading ./sleep_data/sleepedf/prepared/SC4082E0.npz ...\n",
      "Loading ./sleep_data/sleepedf/prepared/SC4091E0.npz ...\n",
      "Loading ./sleep_data/sleepedf/prepared/SC4092E0.npz ...\n",
      "Loading ./sleep_data/sleepedf/prepared/SC4101E0.npz ...\n",
      "Loading ./sleep_data/sleepedf/prepared/SC4102E0.npz ...\n",
      "Loading ./sleep_data/sleepedf/prepared/SC4111E0.npz ...\n",
      "Loading ./sleep_data/sleepedf/prepared/SC4112E0.npz ...\n",
      "Loading ./sleep_data/sleepedf/prepared/SC4121E0.npz ...\n",
      "Loading ./sleep_data/sleepedf/prepared/SC4131E0.npz ...\n",
      "Loading ./sleep_data/sleepedf/prepared/SC4141E0.npz ...\n",
      "Loading ./sleep_data/sleepedf/prepared/SC4142E0.npz ...\n",
      "Loading ./sleep_data/sleepedf/prepared/SC4151E0.npz ...\n",
      "Loading ./sleep_data/sleepedf/prepared/SC4152E0.npz ...\n",
      "Loading ./sleep_data/sleepedf/prepared/SC4161E0.npz ...\n",
      "Loading ./sleep_data/sleepedf/prepared/SC4162E0.npz ...\n",
      "Loading ./sleep_data/sleepedf/prepared/SC4171E0.npz ...\n",
      "Loading ./sleep_data/sleepedf/prepared/SC4181E0.npz ...\n",
      "Loading ./sleep_data/sleepedf/prepared/SC4182E0.npz ...\n",
      "Loading ./sleep_data/sleepedf/prepared/SC4191E0.npz ...\n",
      "Loading ./sleep_data/sleepedf/prepared/SC4192E0.npz ...\n",
      "load 35 files totally.\n",
      "Loading ./sleep_data/sleepedf/prepared/SC4031E0.npz ...\n",
      "Loading ./sleep_data/sleepedf/prepared/SC4051E0.npz ...\n",
      "Loading ./sleep_data/sleepedf/prepared/SC4122E0.npz ...\n",
      "Loading ./sleep_data/sleepedf/prepared/SC4172E0.npz ...\n",
      "load 4 files totally.\n"
     ]
    }
   ],
   "source": [
    "train_data_list, train_labels_list = load_npz_files(train_npzs)\n",
    "val_data_list, val_labels_list = load_npz_files(valid_npzs)"
   ]
  },
  {
   "cell_type": "code",
   "execution_count": 3,
   "metadata": {},
   "outputs": [],
   "source": [
    "train_data_list = [item[0] for item in train_data_list]\n",
    "train_data = np.concatenate(train_data_list, axis = 0)\n",
    "train_label = np.concatenate(train_labels_list, axis = 0)\n",
    "train_data = np.squeeze(train_data)\n",
    "\n",
    "val_data_list = [item[0] for item in val_data_list]\n",
    "val_data = np.concatenate(val_data_list, axis = 0)\n",
    "val_label = np.concatenate(val_labels_list, axis = 0)\n",
    "val_data = np.squeeze(val_data)"
   ]
  },
  {
   "cell_type": "code",
   "execution_count": 4,
   "metadata": {},
   "outputs": [],
   "source": [
    "def normalization(data: np.ndarray) -> np.ndarray:\n",
    "    #data: PSG数据\n",
    "    #返回标准化后的PSG数据\n",
    "    for i in range(data.shape[0]):\n",
    "        mean = data[i].mean(axis = 0)\n",
    "        std = data[i].std(axis = 0)\n",
    "        data[i] -= mean\n",
    "        data[i] /= std\n",
    "    return data\n",
    "\n",
    "train_data = normalization(train_data)\n",
    "val_data = normalization(val_data)\n"
   ]
  },
  {
   "cell_type": "code",
   "execution_count": 5,
   "metadata": {},
   "outputs": [
    {
     "name": "stdout",
     "output_type": "stream",
     "text": [
      "(37934, 3000)\n",
      "(37934,)\n",
      "(4374, 3000)\n",
      "(4374,)\n"
     ]
    }
   ],
   "source": [
    "print(train_data.shape)\n",
    "print(train_label.shape)\n",
    "print(val_data.shape)\n",
    "print(val_label.shape)"
   ]
  },
  {
   "cell_type": "code",
   "execution_count": 6,
   "metadata": {},
   "outputs": [],
   "source": [
    "from sklearn.neighbors import KNeighborsClassifier\n",
    "from sklearn.metrics import accuracy_score\n",
    "import joblib"
   ]
  },
  {
   "cell_type": "code",
   "execution_count": 7,
   "metadata": {},
   "outputs": [
    {
     "data": {
      "text/plain": [
       "['result/KNN_model.pkl']"
      ]
     },
     "execution_count": 7,
     "metadata": {},
     "output_type": "execute_result"
    }
   ],
   "source": [
    "clf = KNeighborsClassifier(n_neighbors = 5, algorithm = 'brute')\n",
    "clf.fit(train_data, train_label)\n",
    "joblib.dump(clf, 'result/KNN_model.pkl')"
   ]
  },
  {
   "cell_type": "code",
   "execution_count": 8,
   "metadata": {},
   "outputs": [
    {
     "data": {
      "text/plain": [
       "0.412665752171925"
      ]
     },
     "execution_count": 8,
     "metadata": {},
     "output_type": "execute_result"
    }
   ],
   "source": [
    "KNN_model = joblib.load('result/KNN_model.pkl')\n",
    "KNN_model.score(val_data, val_label) "
   ]
  },
  {
   "cell_type": "code",
   "execution_count": null,
   "metadata": {},
   "outputs": [],
   "source": []
  }
 ],
 "metadata": {
  "kernelspec": {
   "display_name": "myconda",
   "language": "python",
   "name": "myconda"
  },
  "language_info": {
   "codemirror_mode": {
    "name": "ipython",
    "version": 3
   },
   "file_extension": ".py",
   "mimetype": "text/x-python",
   "name": "python",
   "nbconvert_exporter": "python",
   "pygments_lexer": "ipython3",
   "version": "3.8.5"
  }
 },
 "nbformat": 4,
 "nbformat_minor": 5
}
